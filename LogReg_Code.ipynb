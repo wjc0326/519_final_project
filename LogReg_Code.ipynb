{
  "nbformat": 4,
  "nbformat_minor": 0,
  "metadata": {
    "colab": {
      "name": "CIS 519/419 Final Project.ipynb",
      "provenance": [],
      "collapsed_sections": []
    },
    "kernelspec": {
      "display_name": "Python 3",
      "name": "python3"
    }
  },
  "cells": [
    {
      "cell_type": "markdown",
      "metadata": {
        "id": "sKS-mrzOHGFn"
      },
      "source": [
        "# CIS 519/419 Final Project\n",
        "Team: Ruxuan (Cici) Ji (519, Pooja’s cohort), Joan Shaho (419, Pooja’s Cohort), Jiacheng Wei (519, Shubham’s cohort)\n",
        "\n",
        "Project Mentor TA: Pooja\n",
        "\n"
      ]
    },
    {
      "cell_type": "markdown",
      "metadata": {
        "id": "EWbASwRrwbqB"
      },
      "source": [
        "\n",
        "Instructions:\n",
        "\n",
        "1.   Go to https://magenta.tensorflow.org/datasets/maestro#download\n",
        "2.   Download maestro-v3.0.0-midi.zip (this may take some time)\n",
        "3.   Unzip the folder\n",
        "4.   Upload the unzipped folder to you google drive\n",
        "5.   You are ready to run this colab doc\n"
      ]
    },
    {
      "cell_type": "code",
      "metadata": {
        "id": "yJv7f1ZYw8lI"
      },
      "source": [
        "!pip install mido==1.2.9\n",
        "!pip install pretty_midi"
      ],
      "execution_count": null,
      "outputs": []
    },
    {
      "cell_type": "markdown",
      "metadata": {
        "id": "hLtC0EaSAMGM"
      },
      "source": [
        "First, we import the required packages and libraries."
      ]
    },
    {
      "cell_type": "code",
      "metadata": {
        "id": "uB_EireQdM3z"
      },
      "source": [
        "import pretty_midi\n",
        "import numpy as np\n",
        "import os\n",
        "from mido import MidiFile"
      ],
      "execution_count": null,
      "outputs": []
    },
    {
      "cell_type": "markdown",
      "metadata": {
        "id": "6mfUB1aPAbBk"
      },
      "source": [
        "Here, we load the dataset obtained from google drive. Note that the MAESTRO dataset should be uploaded to google drive first."
      ]
    },
    {
      "cell_type": "code",
      "metadata": {
        "id": "rPHB9ZmfxEaR"
      },
      "source": [
        "from google.colab import drive\n",
        "drive.mount('/content/drive')"
      ],
      "execution_count": null,
      "outputs": []
    },
    {
      "cell_type": "markdown",
      "metadata": {
        "id": "XTVOYufmBK8j"
      },
      "source": [
        "Here, we extract the notes from the piano instruments. After we get the array of piano roll, we convert them into dictionary and then the values of it into string. Then we will convert it into sequences of notes which will be used as inputs for our models. The notes present in the next timestep will act as the target."
      ]
    },
    {
      "cell_type": "code",
      "metadata": {
        "id": "Jz-T7DsE6iKr"
      },
      "source": [
        "def generate_dict_time_notes(file_names, fs=1.5):\n",
        "  \"\"\" Generate map (dictionary) where the key is the index of the song file \n",
        "  name and the value is a piano roll (i.e. a 2D numpy array)\n",
        "  \n",
        "  Parameters\n",
        "  ==========\n",
        "  file_names : list\n",
        "      List of midi file names\n",
        "  fs : int\n",
        "    Sampling frequency of the columns, i.e. each column is spaced apart\n",
        "      by ``1./fs`` seconds.\n",
        "  \n",
        "  Returns\n",
        "  =======\n",
        "  dictionary of midi file names to piano_roll (in np.array)\n",
        "  \"\"\"\n",
        "  \n",
        "  # initialize dictionary\n",
        "  piano_roll_dict = {}\n",
        "\n",
        "  for i in range(len(file_names)):\n",
        "      midi_file_name = file_names[i]\n",
        "      \n",
        "      # generate the dictionary entry for each file\n",
        "      try:\n",
        "          midi_pretty_format = pretty_midi.PrettyMIDI(midi_file_name)\n",
        "          piano_midi = midi_pretty_format.instruments[0] # Get the piano channels\n",
        "          piano_roll = piano_midi.get_piano_roll(fs=fs)\n",
        "          piano_roll_dict[i] = piano_roll\n",
        "      except Exception as e:\n",
        "          print(e)\n",
        "          print(\"broken file : {}\".format(midi_file_name))\n",
        "          pass\n",
        "\n",
        "  return piano_roll_dict\n",
        "\n",
        "def toString(arr):\n",
        "  result = \"\"\n",
        "  for el in arr:\n",
        "    result = result + str(el) + \" \"\n",
        "  \n",
        "  return result\n",
        "\n",
        "def process_notes_in_song(piano_roll_dict, dictionary, reverse_dict):\n",
        "  \"\"\"\n",
        "  Iterate the dictionary of piano rolls and convert each one to a 2D array of \n",
        "  timesteps and notes played\n",
        "  \n",
        "  Parameters\n",
        "  ==========\n",
        "  piano_roll_dict : dict\n",
        "    piano roll dictionary where the index is the midi file name and the value \n",
        "    is the corresponding piano_roll (as a np.array). This is the output of the\n",
        "    function generate_dict_time_notes.\n",
        "  \n",
        "  dictionary: dict\n",
        "    a dictionary object which will keep record of all the  \n",
        "    \n",
        "  reverse_dic: dict\n",
        "    a dictionary from integers to the corresponding note combination \n",
        "    (in array form)\n",
        "  Returns\n",
        "  =======\n",
        "  List of arrays where each array contains d inner arrays, where d is the \n",
        "  number of timesteps for a midi file. Each inner array i \n",
        "  (where 0 <= i < d) corresponds to the notes played at timestep i for a \n",
        "  specific a midi file.\n",
        "  \"\"\"\n",
        "\n",
        "  # initialize the list\n",
        "  list_of_keys_time = []\n",
        "  \n",
        "  for key in piano_roll_dict:\n",
        "      # each sample has 128 rows (each one corresponding to a pitch). The \n",
        "      # columns correspond to timesteps. So by taking the transpose we are \n",
        "      # making the rows be the timesteps and the columns the notes being \n",
        "      # played on that timestep\n",
        "      sample = piano_roll_dict[key].T\n",
        "      keys_time = []\n",
        "\n",
        "      # for each time step create a compact array of notes that are played in \n",
        "      # that timestep\n",
        "      for i in range(len(sample)):\n",
        "        notes = np.where(sample[i] > 1)[0]\n",
        "        # convert array of notes into a string and store that into a dictionary\n",
        "        val = 0\n",
        "        key = toString(notes)\n",
        "        if key in dictionary:\n",
        "          val = dictionary[key]\n",
        "        else:\n",
        "          val = len(dictionary)\n",
        "          dictionary[key] = val\n",
        "          reverse_dict[val] = notes\n",
        "        keys_time.append(val)\n",
        "      \n",
        "      list_of_keys_time.append(keys_time)\n",
        "  return list_of_keys_time\n",
        "\n",
        "def create_train_set(list_of_keys_time, reverse_dict, window_length = 50):\n",
        "  \"\"\"\n",
        "  Iterate the list of timesteps to notes played and create the training set\n",
        "  \n",
        "  Parameters\n",
        "  ==========\n",
        "  list_of_keys_time : list\n",
        "    list of timesteps to notes played (this is the output of the function \n",
        "    process_notes_in_song)\n",
        "\n",
        "  reverse_dic: dict\n",
        "    a dictionary from integers to the corresponding note combination \n",
        "    (in array form)\n",
        "\n",
        "  window_length : int\n",
        "    the number of timesteps to be used for predicting the next timestep\n",
        "  Returns\n",
        "  =======\n",
        "  tuple of (array of note windows, array of notes played in the next timestep, \n",
        "  index of midi file name)\n",
        "  \"\"\"\n",
        "  X = []\n",
        "  y = {}\n",
        "  y_comb = []\n",
        "\n",
        "  for i in range(len(list_of_keys_time)):\n",
        "    inner_list = list_of_keys_time[i]\n",
        "    \n",
        "    for j in range(len(inner_list) - window_length-1):\n",
        "      X.append(inner_list[j:j+window_length])\n",
        "      y_comb.append(inner_list[j+window_length])\n",
        "      for pitch in range(128):\n",
        "        key = inner_list[j+window_length]\n",
        "        if (pitch in y):\n",
        "          y[pitch].append(int(pitch in reverse_dict[key]))\n",
        "        else:\n",
        "          y[pitch] = [int(pitch in reverse_dict[key])]\n",
        "\n",
        "  return np.array(X), y, np.array(y_comb)\n",
        "\n",
        "def get_midi_files(percent = 1.0):\n",
        "  \"\"\"\n",
        "  Get the directory paths of all midi files\n",
        "  \n",
        "  Parameters\n",
        "  ==========\n",
        "  percent : float\n",
        "    the percentage of the songs to use\n",
        "\n",
        "  Returns\n",
        "  =======\n",
        "  a list of all midi file directories\n",
        "  \"\"\"\n",
        "  folder_path = '/content/drive/My Drive/maestro-v3.0.0/2018/'\n",
        "  os.chdir(folder_path)\n",
        "  midi_file_names = !ls\n",
        "  num_files = int(np.round(percent * len(midi_file_names)))\n",
        "  midi_file_names = midi_file_names[:num_files]  # sequence\n",
        "  for i in range(len(midi_file_names)):\n",
        "    midi_file_names[i] = folder_path + midi_file_names[i]\n",
        "\n",
        "  return midi_file_names"
      ],
      "execution_count": null,
      "outputs": []
    },
    {
      "cell_type": "markdown",
      "metadata": {
        "id": "voryBySfEv75"
      },
      "source": [
        "We build two dictionaries to represent note combinations by integers. Then we choose the portion of songs to use for training. Lastly, we seperate training songs into timesteps and combine timesteps into fixed-size windows which will form the training and validation sets"
      ]
    },
    {
      "cell_type": "code",
      "metadata": {
        "id": "M5n-FetM7dSc"
      },
      "source": [
        "dictionary = {}\n",
        "reverse_dict = {}\n",
        "midi_file_names = get_midi_files(percent=0.01)\n",
        "piano_rolls = generate_dict_time_notes(midi_file_names, fs = 1.5)\n",
        "timestep_notes_list = process_notes_in_song(piano_rolls, dictionary, reverse_dict)\n",
        "X, y, y_comb = create_train_set(timestep_notes_list, reverse_dict, window_length=100)"
      ],
      "execution_count": null,
      "outputs": []
    },
    {
      "cell_type": "markdown",
      "metadata": {
        "id": "GoCEs7XhvWa6"
      },
      "source": [
        "The following forms the seed for music generation"
      ]
    },
    {
      "cell_type": "code",
      "metadata": {
        "id": "tr84o1VIVgs_"
      },
      "source": [
        "seed = X[40]"
      ],
      "execution_count": null,
      "outputs": []
    },
    {
      "cell_type": "markdown",
      "metadata": {
        "id": "YXgQn9b6FIrR"
      },
      "source": [
        "We train the 128 logistic regression models. We also use 10-fold cross-validation and record the mean accuracy and f1 scores. Then we generate new music using models trained."
      ]
    },
    {
      "cell_type": "code",
      "metadata": {
        "id": "lODtve7GVQGV"
      },
      "source": [
        "from sklearn.linear_model import LogisticRegression\n",
        "from sklearn.model_selection import train_test_split\n",
        "from sklearn.metrics import r2_score, f1_score\n",
        "import pandas as pd\n",
        "\n",
        "# Variable setup\n",
        "new_dict = dictionary\n",
        "log_model = [0 for x in range(0,128)]\n",
        "y_train = {}\n",
        "y_test = {}\n",
        "train_accuracy = []\n",
        "test_accuracy = []\n",
        "train_f1 = []\n",
        "test_f1 = []\n",
        "train_score = {}\n",
        "test_score = {}\n",
        "train_score_list = []\n",
        "test_score_list = []\n",
        "\n",
        "# Train the logistic regression models (also perform 10-fold cross-validation)\n",
        "for i in range(128):\n",
        "  train_score_i = 0\n",
        "  test_score_i = 0\n",
        "  for j in range(10):\n",
        "    X_train, X_test, y_train[i], y_test[i] = train_test_split(X, y[i], test_size=0.1)  # split into training data and testing data\n",
        "    \n",
        "    if (max(y_train[i]) == min(y_train[i])):\n",
        "      break\n",
        "\n",
        "    log_model[i] = LogisticRegression(random_state=0,tol=1e-4,max_iter=50000).fit(X_train, y_train[i])\n",
        "    \n",
        "    y_pred_train = log_model[i].predict(X_train)  # Make predictions using the training set\n",
        "    y_pred_test = log_model[i].predict(X_test)  # Make predictions using the testing set\n",
        "\n",
        "    train_accuracy.append(log_model[i].score(X_train, y_train[i]))\n",
        "    test_accuracy.append(log_model[i].score(X_test, y_test[i]))\n",
        "\n",
        "    train_f1.append(f1_score(y_train[i], y_pred_train, zero_division=0))\n",
        "    test_f1.append(f1_score(y_test[i], y_pred_test, zero_division=0))\n",
        "\n",
        "    train_score_i += r2_score(y_train[i], y_pred_train)  # Calculate R2 scores\n",
        "    test_score_i += r2_score(y_test[i], y_pred_test)\n",
        "\n",
        "  if (max(y_train[i]) != min(y_train[i])):\n",
        "    train_score_i = train_score_i/10\n",
        "    test_score_i = test_score_i/10\n",
        "    train_score[i] = train_score_i\n",
        "    train_score_list.append(train_score_i)\n",
        "    test_score[i] = test_score_i\n",
        "    test_score_list.append(test_score_i)\n",
        "\n",
        "average_train_score = np.mean(train_score_list)  # Calculate average of train score\n",
        "median_train_score = np.median(train_score_list)   # Calculate median of train score\n",
        "average_test_score = np.mean(test_score_list)  # Calculate average of test score\n",
        "median_test_score = np.median(test_score_list)   # Calculate median of test score\n",
        "\n",
        "print(\"mean train accuracy:\",np.mean(train_accuracy))\n",
        "print(\"mean test accuracy:\",np.mean(test_accuracy))\n",
        "print(\"mean train f1 score:\",np.mean(train_f1))\n",
        "print(\"mean test f1 score:\",np.mean(test_f1))\n",
        "\n",
        "# Generate 200 new time steps from the given seen\n",
        "X_new = seed\n",
        "yhat = [0 for x in range(128)]\n",
        "yhat_note = []\n",
        "\n",
        "print('length of initial dict:', len(new_dict))\n",
        "el = 0 # Record how many new note combinations are generated\n",
        "for j in range(200):\n",
        "  union = []\n",
        "  for k in range(128):\n",
        "    if (log_model[k] == 0):\n",
        "      continue;\n",
        "    yhat[k] = log_model[k].predict(X_new[j:j+200].reshape(1,-1))\n",
        "    if yhat[k] == 1:\n",
        "      yhat[k] = k\n",
        "      union.append(k)\n",
        "\n",
        "  union = toString(np.array(union))\n",
        "  if union in new_dict:            # Update X_new by appending new pitches\n",
        "    X_new = X_new.tolist()\n",
        "    X_new.append(new_dict[union])\n",
        "    X_new = np.array(X_new)\n",
        "  else:\n",
        "    new_dict[union] = count\n",
        "    X_new = X_new.tolist()     \n",
        "    X_new.append(count)\n",
        "    X_new = np.array(X_new)\n",
        "    count += 1\n",
        "    el += 1\n",
        "\n",
        "# skip the seed\n",
        "X_new = X_new[99:]\n",
        "\n",
        "print('length of new dict:',len(new_dict))\n",
        "print(X_new)\n",
        "print('# of new note combinations', el)"
      ],
      "execution_count": null,
      "outputs": []
    },
    {
      "cell_type": "markdown",
      "metadata": {
        "id": "VhJhqpEPFqTm"
      },
      "source": [
        "Add one pitch at the end as the signal to stop if the notes generated are all empty."
      ]
    },
    {
      "cell_type": "code",
      "metadata": {
        "id": "qZl_yIjVwbzs"
      },
      "source": [
        "X_n = np.hstack((X_new,[1]))"
      ],
      "execution_count": null,
      "outputs": []
    },
    {
      "cell_type": "markdown",
      "metadata": {
        "id": "S6FymGMJGH5x"
      },
      "source": [
        "The following two blocks transform the sequence of piano rolls to a midi file."
      ]
    },
    {
      "cell_type": "code",
      "metadata": {
        "id": "Skk4lXRCVOuz"
      },
      "source": [
        "def piano_roll_to_pretty_midi(piano_roll, fs=1.5, program=0):\n",
        "    '''Convert a Piano Roll array into a PrettyMidi object\n",
        "     with a single instrument.\n",
        "    Parameters\n",
        "    ----------\n",
        "    piano_roll : np.ndarray, shape=(128,frames), dtype=int\n",
        "        Piano roll of one instrument\n",
        "    fs : int\n",
        "        Sampling frequency of the columns, i.e. each column is spaced apart\n",
        "        by ``1./fs`` seconds.\n",
        "    program : int\n",
        "        The program number of the instrument.\n",
        "    Returns\n",
        "    -------\n",
        "    midi_object : pretty_midi.PrettyMIDI\n",
        "        A pretty_midi.PrettyMIDI class instance describing\n",
        "        the piano roll.\n",
        "    '''\n",
        "    notes, frames = piano_roll.shape\n",
        "    pm = pretty_midi.PrettyMIDI()\n",
        "    instrument = pretty_midi.Instrument(program=program)\n",
        "\n",
        "    # pad 1 column of zeros so we can acknowledge inital and ending events\n",
        "    piano_roll = np.pad(piano_roll, [(0, 0), (1, 1)], 'constant')\n",
        "\n",
        "    # use changes in velocities to find note on / note off events\n",
        "    velocity_changes = np.nonzero(np.diff(piano_roll).T)\n",
        "\n",
        "    # keep track on velocities and note on times\n",
        "    prev_velocities = np.zeros(notes, dtype=int)\n",
        "    note_on_time = np.zeros(notes)\n",
        "\n",
        "    for time, note in zip(*velocity_changes):\n",
        "        # use time + 1 because of padding above\n",
        "        velocity = piano_roll[note, time + 1]\n",
        "        time = time / fs\n",
        "        if velocity > 0:\n",
        "            if prev_velocities[note] == 0:\n",
        "                note_on_time[note] = time\n",
        "                prev_velocities[note] = velocity # 1/0\n",
        "        else:\n",
        "            pm_note = pretty_midi.Note(\n",
        "                velocity=prev_velocities[note],\n",
        "                pitch=note,\n",
        "                start=note_on_time[note],\n",
        "                end=time)\n",
        "            instrument.notes.append(pm_note)\n",
        "            prev_velocities[note] = 0\n",
        "    pm.instruments.append(instrument)\n",
        "    return pm"
      ],
      "execution_count": null,
      "outputs": []
    },
    {
      "cell_type": "code",
      "metadata": {
        "id": "03lbCYipU1pu"
      },
      "source": [
        "def write_midi_file_from_generated(generate, midi_file_name = \"result.mid\", start_index=0, fs=1.5, max_generated=100):\n",
        "  reverse_dict = dict(zip(new_dict.values(),new_dict.keys()))\n",
        "  note_string = [reverse_dict[ind_note] for ind_note in generate]\n",
        "  array_piano_roll = np.zeros((128,max_generated+1), dtype=np.int16)\n",
        "  for index, note in enumerate(note_string[start_index:]):\n",
        "    if note == '':\n",
        "      pass\n",
        "    else:\n",
        "      splitted_note = note.split()\n",
        "      for j in splitted_note:\n",
        "        array_piano_roll[int(j),index] = 1\n",
        "  generate_to_midi = piano_roll_to_pretty_midi(array_piano_roll, fs=fs)\n",
        "  for note in generate_to_midi.instruments[0].notes:\n",
        "    note.velocity = 100\n",
        "  generate_to_midi.write(midi_file_name)\n",
        "\n",
        "write_midi_file_from_generated(X_new, midi_file_name = \"1_song_fs_1.5.mid\", start_index=0 , fs=1.5, max_generated = 201)"
      ],
      "execution_count": null,
      "outputs": []
    }
  ]
}