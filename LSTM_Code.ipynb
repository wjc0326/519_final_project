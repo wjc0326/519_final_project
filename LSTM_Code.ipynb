{
  "nbformat": 4,
  "nbformat_minor": 0,
  "metadata": {
    "colab": {
      "name": "Copy of CIS 519/419 Final Project.ipynb",
      "provenance": [],
      "collapsed_sections": []
    },
    "kernelspec": {
      "display_name": "Python 3",
      "name": "python3"
    }
  },
  "cells": [
    {
      "cell_type": "markdown",
      "metadata": {
        "id": "sKS-mrzOHGFn"
      },
      "source": [
        "# CIS 519/419 Final Project\n",
        "Team: Ruxuan (Cici) Ji (519, Pooja’s cohort), Joan Shaho (419, Pooja’s Cohort), Jiacheng Wei (519, Shubham’s cohort)\n",
        "\n",
        "Project Mentor TA: Pooja\n",
        "\n"
      ]
    },
    {
      "cell_type": "markdown",
      "metadata": {
        "id": "EWbASwRrwbqB"
      },
      "source": [
        "\n",
        "Instructions:\n",
        "\n",
        "1.   Go to https://magenta.tensorflow.org/datasets/maestro#download\n",
        "2.   Download maestro-v3.0.0-midi.zip (this may take some time)\n",
        "3.   Unzip the folder\n",
        "4.   Upload the unzipped folder to you google drive\n",
        "5.   You are ready to run this colab doc\n"
      ]
    },
    {
      "cell_type": "code",
      "metadata": {
        "id": "yJv7f1ZYw8lI",
        "colab": {
          "base_uri": "https://localhost:8080/"
        },
        "outputId": "fa64fb43-e6fd-4a59-ad60-c3cfed5566d1"
      },
      "source": [
        "!pip install mido==1.2.9\n",
        "!pip install pretty_midi\n",
        "!pip install gensim==3.8\n",
        "!pip install torchtext==0.4.0\n",
        "!pip install unidecode\n",
        "!pip install d2l"
      ],
      "execution_count": 1,
      "outputs": [
        {
          "output_type": "stream",
          "text": [
            "Requirement already satisfied: mido==1.2.9 in /usr/local/lib/python3.7/dist-packages (1.2.9)\n",
            "Requirement already satisfied: pretty_midi in /usr/local/lib/python3.7/dist-packages (0.2.9)\n",
            "Requirement already satisfied: numpy>=1.7.0 in /usr/local/lib/python3.7/dist-packages (from pretty_midi) (1.19.5)\n",
            "Requirement already satisfied: six in /usr/local/lib/python3.7/dist-packages (from pretty_midi) (1.15.0)\n",
            "Requirement already satisfied: mido>=1.1.16 in /usr/local/lib/python3.7/dist-packages (from pretty_midi) (1.2.9)\n",
            "Requirement already satisfied: gensim==3.8 in /usr/local/lib/python3.7/dist-packages (3.8.0)\n",
            "Requirement already satisfied: smart-open>=1.7.0 in /usr/local/lib/python3.7/dist-packages (from gensim==3.8) (5.0.0)\n",
            "Requirement already satisfied: scipy>=0.18.1 in /usr/local/lib/python3.7/dist-packages (from gensim==3.8) (1.4.1)\n",
            "Requirement already satisfied: numpy>=1.11.3 in /usr/local/lib/python3.7/dist-packages (from gensim==3.8) (1.19.5)\n",
            "Requirement already satisfied: six>=1.5.0 in /usr/local/lib/python3.7/dist-packages (from gensim==3.8) (1.15.0)\n",
            "Requirement already satisfied: torchtext==0.4.0 in /usr/local/lib/python3.7/dist-packages (0.4.0)\n",
            "Requirement already satisfied: requests in /usr/local/lib/python3.7/dist-packages (from torchtext==0.4.0) (2.23.0)\n",
            "Requirement already satisfied: numpy in /usr/local/lib/python3.7/dist-packages (from torchtext==0.4.0) (1.19.5)\n",
            "Requirement already satisfied: torch in /usr/local/lib/python3.7/dist-packages (from torchtext==0.4.0) (1.8.1+cu101)\n",
            "Requirement already satisfied: six in /usr/local/lib/python3.7/dist-packages (from torchtext==0.4.0) (1.15.0)\n",
            "Requirement already satisfied: tqdm in /usr/local/lib/python3.7/dist-packages (from torchtext==0.4.0) (4.41.1)\n",
            "Requirement already satisfied: urllib3!=1.25.0,!=1.25.1,<1.26,>=1.21.1 in /usr/local/lib/python3.7/dist-packages (from requests->torchtext==0.4.0) (1.24.3)\n",
            "Requirement already satisfied: certifi>=2017.4.17 in /usr/local/lib/python3.7/dist-packages (from requests->torchtext==0.4.0) (2020.12.5)\n",
            "Requirement already satisfied: idna<3,>=2.5 in /usr/local/lib/python3.7/dist-packages (from requests->torchtext==0.4.0) (2.10)\n",
            "Requirement already satisfied: chardet<4,>=3.0.2 in /usr/local/lib/python3.7/dist-packages (from requests->torchtext==0.4.0) (3.0.4)\n",
            "Requirement already satisfied: typing-extensions in /usr/local/lib/python3.7/dist-packages (from torch->torchtext==0.4.0) (3.7.4.3)\n",
            "Requirement already satisfied: unidecode in /usr/local/lib/python3.7/dist-packages (1.2.0)\n",
            "Requirement already satisfied: d2l in /usr/local/lib/python3.7/dist-packages (0.16.3)\n",
            "Requirement already satisfied: pandas in /usr/local/lib/python3.7/dist-packages (from d2l) (1.1.5)\n",
            "Requirement already satisfied: numpy in /usr/local/lib/python3.7/dist-packages (from d2l) (1.19.5)\n",
            "Requirement already satisfied: matplotlib in /usr/local/lib/python3.7/dist-packages (from d2l) (3.2.2)\n",
            "Requirement already satisfied: requests in /usr/local/lib/python3.7/dist-packages (from d2l) (2.23.0)\n",
            "Requirement already satisfied: jupyter in /usr/local/lib/python3.7/dist-packages (from d2l) (1.0.0)\n",
            "Requirement already satisfied: python-dateutil>=2.7.3 in /usr/local/lib/python3.7/dist-packages (from pandas->d2l) (2.8.1)\n",
            "Requirement already satisfied: pytz>=2017.2 in /usr/local/lib/python3.7/dist-packages (from pandas->d2l) (2018.9)\n",
            "Requirement already satisfied: kiwisolver>=1.0.1 in /usr/local/lib/python3.7/dist-packages (from matplotlib->d2l) (1.3.1)\n",
            "Requirement already satisfied: cycler>=0.10 in /usr/local/lib/python3.7/dist-packages (from matplotlib->d2l) (0.10.0)\n",
            "Requirement already satisfied: pyparsing!=2.0.4,!=2.1.2,!=2.1.6,>=2.0.1 in /usr/local/lib/python3.7/dist-packages (from matplotlib->d2l) (2.4.7)\n",
            "Requirement already satisfied: chardet<4,>=3.0.2 in /usr/local/lib/python3.7/dist-packages (from requests->d2l) (3.0.4)\n",
            "Requirement already satisfied: certifi>=2017.4.17 in /usr/local/lib/python3.7/dist-packages (from requests->d2l) (2020.12.5)\n",
            "Requirement already satisfied: urllib3!=1.25.0,!=1.25.1,<1.26,>=1.21.1 in /usr/local/lib/python3.7/dist-packages (from requests->d2l) (1.24.3)\n",
            "Requirement already satisfied: idna<3,>=2.5 in /usr/local/lib/python3.7/dist-packages (from requests->d2l) (2.10)\n",
            "Requirement already satisfied: jupyter-console in /usr/local/lib/python3.7/dist-packages (from jupyter->d2l) (5.2.0)\n",
            "Requirement already satisfied: nbconvert in /usr/local/lib/python3.7/dist-packages (from jupyter->d2l) (5.6.1)\n",
            "Requirement already satisfied: qtconsole in /usr/local/lib/python3.7/dist-packages (from jupyter->d2l) (5.0.3)\n",
            "Requirement already satisfied: notebook in /usr/local/lib/python3.7/dist-packages (from jupyter->d2l) (5.3.1)\n",
            "Requirement already satisfied: ipywidgets in /usr/local/lib/python3.7/dist-packages (from jupyter->d2l) (7.6.3)\n",
            "Requirement already satisfied: ipykernel in /usr/local/lib/python3.7/dist-packages (from jupyter->d2l) (4.10.1)\n",
            "Requirement already satisfied: six>=1.5 in /usr/local/lib/python3.7/dist-packages (from python-dateutil>=2.7.3->pandas->d2l) (1.15.0)\n",
            "Requirement already satisfied: jupyter-client in /usr/local/lib/python3.7/dist-packages (from jupyter-console->jupyter->d2l) (5.3.5)\n",
            "Requirement already satisfied: ipython in /usr/local/lib/python3.7/dist-packages (from jupyter-console->jupyter->d2l) (5.5.0)\n",
            "Requirement already satisfied: pygments in /usr/local/lib/python3.7/dist-packages (from jupyter-console->jupyter->d2l) (2.6.1)\n",
            "Requirement already satisfied: prompt-toolkit<2.0.0,>=1.0.0 in /usr/local/lib/python3.7/dist-packages (from jupyter-console->jupyter->d2l) (1.0.18)\n",
            "Requirement already satisfied: entrypoints>=0.2.2 in /usr/local/lib/python3.7/dist-packages (from nbconvert->jupyter->d2l) (0.3)\n",
            "Requirement already satisfied: mistune<2,>=0.8.1 in /usr/local/lib/python3.7/dist-packages (from nbconvert->jupyter->d2l) (0.8.4)\n",
            "Requirement already satisfied: testpath in /usr/local/lib/python3.7/dist-packages (from nbconvert->jupyter->d2l) (0.4.4)\n",
            "Requirement already satisfied: bleach in /usr/local/lib/python3.7/dist-packages (from nbconvert->jupyter->d2l) (3.3.0)\n",
            "Requirement already satisfied: pandocfilters>=1.4.1 in /usr/local/lib/python3.7/dist-packages (from nbconvert->jupyter->d2l) (1.4.3)\n",
            "Requirement already satisfied: defusedxml in /usr/local/lib/python3.7/dist-packages (from nbconvert->jupyter->d2l) (0.7.1)\n",
            "Requirement already satisfied: jinja2>=2.4 in /usr/local/lib/python3.7/dist-packages (from nbconvert->jupyter->d2l) (2.11.3)\n",
            "Requirement already satisfied: nbformat>=4.4 in /usr/local/lib/python3.7/dist-packages (from nbconvert->jupyter->d2l) (5.1.3)\n",
            "Requirement already satisfied: traitlets>=4.2 in /usr/local/lib/python3.7/dist-packages (from nbconvert->jupyter->d2l) (5.0.5)\n",
            "Requirement already satisfied: jupyter-core in /usr/local/lib/python3.7/dist-packages (from nbconvert->jupyter->d2l) (4.7.1)\n",
            "Requirement already satisfied: ipython-genutils in /usr/local/lib/python3.7/dist-packages (from qtconsole->jupyter->d2l) (0.2.0)\n",
            "Requirement already satisfied: qtpy in /usr/local/lib/python3.7/dist-packages (from qtconsole->jupyter->d2l) (1.9.0)\n",
            "Requirement already satisfied: pyzmq>=17.1 in /usr/local/lib/python3.7/dist-packages (from qtconsole->jupyter->d2l) (22.0.3)\n",
            "Requirement already satisfied: terminado>=0.8.1 in /usr/local/lib/python3.7/dist-packages (from notebook->jupyter->d2l) (0.9.4)\n",
            "Requirement already satisfied: tornado>=4 in /usr/local/lib/python3.7/dist-packages (from notebook->jupyter->d2l) (5.1.1)\n",
            "Requirement already satisfied: Send2Trash in /usr/local/lib/python3.7/dist-packages (from notebook->jupyter->d2l) (1.5.0)\n",
            "Requirement already satisfied: widgetsnbextension~=3.5.0 in /usr/local/lib/python3.7/dist-packages (from ipywidgets->jupyter->d2l) (3.5.1)\n",
            "Requirement already satisfied: jupyterlab-widgets>=1.0.0; python_version >= \"3.6\" in /usr/local/lib/python3.7/dist-packages (from ipywidgets->jupyter->d2l) (1.0.0)\n",
            "Requirement already satisfied: pickleshare in /usr/local/lib/python3.7/dist-packages (from ipython->jupyter-console->jupyter->d2l) (0.7.5)\n",
            "Requirement already satisfied: decorator in /usr/local/lib/python3.7/dist-packages (from ipython->jupyter-console->jupyter->d2l) (4.4.2)\n",
            "Requirement already satisfied: simplegeneric>0.8 in /usr/local/lib/python3.7/dist-packages (from ipython->jupyter-console->jupyter->d2l) (0.8.1)\n",
            "Requirement already satisfied: pexpect; sys_platform != \"win32\" in /usr/local/lib/python3.7/dist-packages (from ipython->jupyter-console->jupyter->d2l) (4.8.0)\n",
            "Requirement already satisfied: setuptools>=18.5 in /usr/local/lib/python3.7/dist-packages (from ipython->jupyter-console->jupyter->d2l) (56.0.0)\n",
            "Requirement already satisfied: wcwidth in /usr/local/lib/python3.7/dist-packages (from prompt-toolkit<2.0.0,>=1.0.0->jupyter-console->jupyter->d2l) (0.2.5)\n",
            "Requirement already satisfied: webencodings in /usr/local/lib/python3.7/dist-packages (from bleach->nbconvert->jupyter->d2l) (0.5.1)\n",
            "Requirement already satisfied: packaging in /usr/local/lib/python3.7/dist-packages (from bleach->nbconvert->jupyter->d2l) (20.9)\n",
            "Requirement already satisfied: MarkupSafe>=0.23 in /usr/local/lib/python3.7/dist-packages (from jinja2>=2.4->nbconvert->jupyter->d2l) (1.1.1)\n",
            "Requirement already satisfied: jsonschema!=2.5.0,>=2.4 in /usr/local/lib/python3.7/dist-packages (from nbformat>=4.4->nbconvert->jupyter->d2l) (2.6.0)\n",
            "Requirement already satisfied: ptyprocess; os_name != \"nt\" in /usr/local/lib/python3.7/dist-packages (from terminado>=0.8.1->notebook->jupyter->d2l) (0.7.0)\n"
          ],
          "name": "stdout"
        }
      ]
    },
    {
      "cell_type": "markdown",
      "metadata": {
        "id": "hLtC0EaSAMGM"
      },
      "source": [
        "First, we import the required packages and libraries."
      ]
    },
    {
      "cell_type": "code",
      "metadata": {
        "id": "uB_EireQdM3z",
        "colab": {
          "base_uri": "https://localhost:8080/"
        },
        "outputId": "d0466df8-0296-48aa-c8c8-3fd63f24c9f6"
      },
      "source": [
        "import pretty_midi\n",
        "import numpy as np\n",
        "import os\n",
        "from mido import MidiFile\n",
        "import re\n",
        "import sys\n",
        "import math\n",
        "import time\n",
        "import nltk\n",
        "import torch\n",
        "import random\n",
        "import string\n",
        "import unidecode\n",
        "import collections\n",
        "\n",
        "import pandas as pd\n",
        "import torch.nn as nn\n",
        "import matplotlib.cm as cm\n",
        "import matplotlib.pyplot as plt\n",
        "import matplotlib.ticker as ticker\n",
        "\n",
        "from gensim.models import Word2Vec\n",
        "from nltk.corpus import brown\n",
        "from sklearn.manifold import TSNE\n",
        "from torch.autograd import Variable\n",
        "from torchtext import data, datasets\n",
        "from torchtext.vocab import Vectors\n",
        "\n",
        "from torch.utils.data import Dataset, DataLoader\n",
        "from IPython.display import Image, YouTubeVideo\n",
        "from torch.nn import functional as F\n",
        "from d2l import torch as d2l\n",
        "\n",
        "nltk.download('punkt')\n",
        "nltk.download('averaged_perceptron_tagger')\n",
        "nltk.download('brown')\n",
        "nltk.download('webtext')\n",
        "\n",
        "device = torch.device('cuda' if torch.cuda.is_available() else 'cpu')"
      ],
      "execution_count": 2,
      "outputs": [
        {
          "output_type": "stream",
          "text": [
            "[nltk_data] Downloading package punkt to /root/nltk_data...\n",
            "[nltk_data]   Package punkt is already up-to-date!\n",
            "[nltk_data] Downloading package averaged_perceptron_tagger to\n",
            "[nltk_data]     /root/nltk_data...\n",
            "[nltk_data]   Package averaged_perceptron_tagger is already up-to-\n",
            "[nltk_data]       date!\n",
            "[nltk_data] Downloading package brown to /root/nltk_data...\n",
            "[nltk_data]   Package brown is already up-to-date!\n",
            "[nltk_data] Downloading package webtext to /root/nltk_data...\n",
            "[nltk_data]   Package webtext is already up-to-date!\n"
          ],
          "name": "stdout"
        }
      ]
    },
    {
      "cell_type": "markdown",
      "metadata": {
        "id": "6mfUB1aPAbBk"
      },
      "source": [
        "Here, we load the dataset obtained from google drive. Note that the MAESTRO dataset should be uploaded to google drive first."
      ]
    },
    {
      "cell_type": "code",
      "metadata": {
        "id": "rPHB9ZmfxEaR",
        "colab": {
          "base_uri": "https://localhost:8080/"
        },
        "outputId": "519e6546-635c-4c20-9fb0-a192c1fd0590"
      },
      "source": [
        "from google.colab import drive\n",
        "drive.mount('/content/drive')"
      ],
      "execution_count": 3,
      "outputs": [
        {
          "output_type": "stream",
          "text": [
            "Drive already mounted at /content/drive; to attempt to forcibly remount, call drive.mount(\"/content/drive\", force_remount=True).\n"
          ],
          "name": "stdout"
        }
      ]
    },
    {
      "cell_type": "markdown",
      "metadata": {
        "id": "XTVOYufmBK8j"
      },
      "source": [
        "Here, we extract the notes from the piano instruments. After we get the array of piano roll, we convert them into dictionary and then the values of it into string. Then we will convert it into sequences of notes which will be used as inputs for our models. The notes present in the next timestep will act as the target."
      ]
    },
    {
      "cell_type": "code",
      "metadata": {
        "id": "Jz-T7DsE6iKr"
      },
      "source": [
        "def generate_dict_time_notes(file_names, fs=1.5):\n",
        "  \"\"\" Generate map (dictionary) where the key is the index of the song file \n",
        "  name and the value is a piano roll (i.e. a 2D numpy array)\n",
        "  \n",
        "  Parameters\n",
        "  ==========\n",
        "  file_names : list\n",
        "      List of midi file names\n",
        "  fs : int\n",
        "    Sampling frequency of the columns, i.e. each column is spaced apart\n",
        "      by ``1./fs`` seconds.\n",
        "  \n",
        "  Returns\n",
        "  =======\n",
        "  dictionary of midi file names to piano_roll (in np.array)\n",
        "  \"\"\"\n",
        "  \n",
        "  # initialize dictionary\n",
        "  piano_roll_dict = {}\n",
        "\n",
        "  for i in range(len(file_names)):\n",
        "      midi_file_name = file_names[i]\n",
        "      \n",
        "      # generate the dictionary entry for each file\n",
        "      try:\n",
        "          midi_pretty_format = pretty_midi.PrettyMIDI(midi_file_name)\n",
        "          piano_midi = midi_pretty_format.instruments[0] # Get the piano channels\n",
        "          piano_roll = piano_midi.get_piano_roll(fs=fs)\n",
        "          piano_roll_dict[i] = piano_roll\n",
        "      except Exception as e:\n",
        "          print(e)\n",
        "          print(\"broken file : {}\".format(midi_file_name))\n",
        "          pass\n",
        "\n",
        "  return piano_roll_dict\n",
        "\n",
        "def toString(arr):\n",
        "  result = \"\"\n",
        "  for el in arr:\n",
        "    result = result + str(el)\n",
        "  \n",
        "  return result\n",
        "\n",
        "def process_notes_in_song(piano_roll_dict, dictionary, reverse_dict, dictionary_copy):\n",
        "  \"\"\"\n",
        "  Iterate the dictionary of piano rolls and convert each one to a 2D array of \n",
        "  timesteps and notes played\n",
        "  \n",
        "  Parameters\n",
        "  ==========\n",
        "  piano_roll_dict : dict\n",
        "    piano roll dictionary where the index is the midi file name and the value \n",
        "    is the corresponding piano_roll (as a np.array). This is the output of the\n",
        "    function generate_dict_time_notes.\n",
        "  \n",
        "  dictionary: dict\n",
        "    a dictionary object which will keep record of all the  \n",
        "    \n",
        "  reverse_dic: dict\n",
        "    a dictionary from integers to the corresponding note combination \n",
        "    (in array form)\n",
        "  \n",
        "  dictionary_copy: dict\n",
        "    a copy of the \"dictionary\" variable which stores the note combinations \n",
        "    based on the song they appear in. Each song is identified by its index when \n",
        "    all the songs are loaded\n",
        "\n",
        "  Returns\n",
        "  =======\n",
        "  List of arrays where each array contains d inner arrays, where d is the \n",
        "  number of timesteps for a midi file. Each inner array i \n",
        "  (where 0 <= i < d) corresponds to the notes played at timestep i for a \n",
        "  specific a midi file.\n",
        "  \"\"\"\n",
        "\n",
        "  # initialize the list\n",
        "  list_of_keys_time = []\n",
        "  \n",
        "  count = 0\n",
        "  for key in piano_roll_dict:\n",
        "      # each sample has 128 rows (each one corresponding to a pitch). The \n",
        "      # columns correspond to timesteps. So by taking the transpose we are \n",
        "      # making the rows be the timesteps and the columns the notes being \n",
        "      # played on that timestep\n",
        "      sample = piano_roll_dict[key].T\n",
        "      keys_time = []\n",
        "\n",
        "      dictionary_copy[count] = {}\n",
        "      # for each time step create a compact array of notes that are played in \n",
        "      # that timestep\n",
        "      for i in range(len(sample)):\n",
        "        one_hot = np.zeros(128, dtype='int')\n",
        "        notes = np.where(sample[i] > 1)[0]\n",
        "        one_hot[notes] = 1\n",
        "        word = toString(one_hot)\n",
        "        ind = int(len(dictionary))\n",
        "        if (word not in dictionary):\n",
        "          dictionary[word] = ind\n",
        "          dictionary_copy[count][ind] = True\n",
        "          reverse_dict[ind] = one_hot\n",
        "        else:\n",
        "          ind = dictionary[word]\n",
        "        keys_time.append(ind)\n",
        "      \n",
        "      list_of_keys_time.append(keys_time)\n",
        "      count += 1\n",
        "  return list_of_keys_time\n",
        "\n",
        "def create_train_set(list_of_keys_time, reverse_dict, window_length = 50):\n",
        "  \"\"\"\n",
        "  Iterate the list of timesteps to notes played and create the training set\n",
        "  \n",
        "  Parameters\n",
        "  ==========\n",
        "  list_of_keys_time : list\n",
        "    list of timesteps to notes played (this is the output of the function \n",
        "    process_notes_in_song)\n",
        "\n",
        "  reverse_dic: dict\n",
        "    a dictionary from integers to the corresponding note combination \n",
        "    (in array form)\n",
        "\n",
        "  window_length : int\n",
        "    the number of timesteps to be used for predicting the next timestep\n",
        "  Returns\n",
        "  =======\n",
        "  tuple of (array of note windows, array of notes played in the next timestep, \n",
        "  index of midi file name)\n",
        "  \"\"\"\n",
        "  data = []\n",
        "\n",
        "  for i in range(len(list_of_keys_time)):\n",
        "    inner_list = list_of_keys_time[i]\n",
        "    \n",
        "    for j in range(len(inner_list) - window_length-1):\n",
        "      item = (torch.tensor(inner_list[j:j+window_length], dtype=torch.long), inner_list[j+window_length])\n",
        "      data.append(item)\n",
        "\n",
        "  return data\n",
        "\n",
        "def get_midi_files(percent = 1.0):\n",
        "  \"\"\"\n",
        "  Get the directory paths of all midi files\n",
        "  \n",
        "  Parameters\n",
        "  ==========\n",
        "  percent : float\n",
        "    the percentage of the songs to use\n",
        "\n",
        "  Returns\n",
        "  =======\n",
        "  a list of all midi file directories\n",
        "  \"\"\"\n",
        "  folder_path = '/content/drive/My Drive/maestro-v3.0.0/2018/'\n",
        "  os.chdir(folder_path)\n",
        "  midi_file_names = !ls\n",
        "  arr = []\n",
        "  for i in range(len(midi_file_names)):\n",
        "    if (midi_file_names[i][0] != 'M'):\n",
        "      continue\n",
        "    arr.append(folder_path + midi_file_names[i])\n",
        "  num_files = int(np.round(percent * len(arr)))\n",
        "  midi_file_names = arr[:num_files]\n",
        "  return midi_file_names"
      ],
      "execution_count": 4,
      "outputs": []
    },
    {
      "cell_type": "markdown",
      "metadata": {
        "id": "voryBySfEv75"
      },
      "source": [
        "We build two dictionaries to represent note combinations by integers. Then we choose the portion of songs to use for training. Lastly, we seperate training songs into timesteps and combine timesteps into fixed-size windows which will form the training and validation sets"
      ]
    },
    {
      "cell_type": "code",
      "metadata": {
        "id": "M5n-FetM7dSc"
      },
      "source": [
        "dictionary = {}\n",
        "reverse_dict = {}\n",
        "dictionary_copy = {}\n",
        "midi_file_names = get_midi_files(percent=0.01)\n",
        "piano_rolls = generate_dict_time_notes(midi_file_names, fs = 1.5)\n",
        "timestep_notes_list = process_notes_in_song(piano_rolls, dictionary, reverse_dict, dictionary_copy)\n",
        "data = create_train_set(timestep_notes_list, reverse_dict, window_length = 50)"
      ],
      "execution_count": 5,
      "outputs": []
    },
    {
      "cell_type": "code",
      "metadata": {
        "id": "7Nl3OKjQ3crv"
      },
      "source": [
        "# create split between training and validation set \n",
        "# and shuffle the data\n",
        "split = int(0.7 * len(data))\n",
        "np.random.shuffle(data)\n",
        "train_data = data[:split]\n",
        "val_data = data[split:]"
      ],
      "execution_count": 6,
      "outputs": []
    },
    {
      "cell_type": "markdown",
      "metadata": {
        "id": "5uHmAms34a5B"
      },
      "source": [
        "Create the main train() function as well as helper functions"
      ]
    },
    {
      "cell_type": "code",
      "metadata": {
        "id": "ZT-mOAoF4Zvl"
      },
      "source": [
        "from torch import save\n",
        "from torch import load\n",
        "from os import path\n",
        "\n",
        "def save_model(model, name):\n",
        "  return save(model.state_dict(), name + \".pth\")\n",
        "\n",
        "def init_weights(net):\n",
        "    \"\"\"\n",
        "    Usage: net = Model()\n",
        "           net.apply(init_weights)\n",
        "    \"\"\"\n",
        "    for m in net.modules():\n",
        "        if isinstance(m, nn.Conv2d):\n",
        "            nn.init.kaiming_normal_(m.weight)\n",
        "        elif isinstance(m, nn.BatchNorm2d):\n",
        "            nn.init.ones_(m.weight)\n",
        "            nn.init.zeros_(m.bias)\n",
        "        elif isinstance(m, nn.Linear):\n",
        "            nn.init.xavier_uniform_(m.weight)\n",
        "\n",
        "def train(args, model):\n",
        "    # load the data and initialize the DataLoader objects\n",
        "    train_loader = DataLoader(train_data, batch_size=50, shuffle=True)\n",
        "    val_loader = DataLoader(val_data, batch_size=50, shuffle=True)\n",
        "\n",
        "    # set the device\n",
        "    device = torch.device(args.device)\n",
        "    model = model.to(device)\n",
        "\n",
        "    # initialize the weights\n",
        "    model.apply(init_weights)\n",
        "\n",
        "    # initialize the optimizer\n",
        "    optimizer = torch.optim.Adam(model.parameters(), lr = args.learning_rate)\n",
        "    \n",
        "    # initialize the loss function\n",
        "    lossFunc = nn.CrossEntropyLoss()\n",
        "    \n",
        "    train_loss, validation_loss = [], []\n",
        "    train_acc, validation_acc = [], []\n",
        "    \n",
        "    # loop through the number of epochs\n",
        "    for epoch in range(args.epochs):\n",
        "      model.train()\n",
        "      running_loss = 0.\n",
        "      correct, total = 0, 0 \n",
        "      steps = 0\n",
        "      for batch_idx, (data, target) in enumerate(train_loader):\n",
        "        # map data and labels to device\n",
        "        data, target = data.to(device), target.to(device)\n",
        "\n",
        "        optimizer.zero_grad()\n",
        "        \n",
        "        # run forward pass\n",
        "        output = model(data)\n",
        "\n",
        "        # compute loss\n",
        "        loss = lossFunc(output, target)\n",
        "\n",
        "        # compute gradients\n",
        "        loss.backward()\n",
        "\n",
        "        # update model parameters\n",
        "        optimizer.step()\n",
        "        steps += 1\n",
        "        running_loss += loss.item()\n",
        "\n",
        "        # get accuracy \n",
        "        _, predicted = torch.max(output, 1)\n",
        "        total += target.size(0)\n",
        "        correct += (predicted == target).sum().item()\n",
        "        \n",
        "      train_loss.append(running_loss/len(train_loader))\n",
        "      train_acc.append(correct/total)\n",
        "\n",
        "      print(f'Epoch: {epoch + 1},  Training Loss: {running_loss/len(train_loader):.4f}, Training Accuracy: {100*correct/total: .2f}%')\n",
        "\n",
        "      # evaluate on validation data\n",
        "      model.eval()\n",
        "      running_loss = 0.\n",
        "      correct, total = 0, 0 \n",
        "\n",
        "      with torch.no_grad():\n",
        "        for idx, (data, target) in enumerate(val_loader):\n",
        "            target = torch.autograd.Variable(target).long()\n",
        "            data, target = data.to(device), target.to(device)\n",
        "\n",
        "            optimizer.zero_grad()\n",
        "            output = model(data)\n",
        "\n",
        "            loss = lossFunc(output, target)\n",
        "            running_loss += loss.item()\n",
        "\n",
        "            # get accuracy \n",
        "            _, predicted = torch.max(output, 1)\n",
        "            total += target.size(0)\n",
        "            correct += (predicted == target).sum().item()\n",
        "\n",
        "      validation_loss.append(running_loss/len(val_loader))\n",
        "      validation_acc.append(correct/total)\n",
        "\n",
        "      print (f'Validation Loss: {running_loss/len(val_loader):.4f}, Validation Accuracy: {100*correct/total: .2f}%')\n",
        "    \n",
        "    # Plot loss and accuracy against number of epochs    \n",
        "    plot1 = plt.figure(1)\n",
        "    plt.plot(list(np.arange(1,args.epochs+1)), train_loss, label=\"Training Loss\")\n",
        "    plt.plot(list(np.arange(1,args.epochs+1)), validation_loss, label=\"Validation Loss\")\n",
        "    plt.xticks(np.arange(1,args.epochs+1,(args.epochs / 5)))\n",
        "    plt.xlabel('Epoch #') \n",
        "    plt.ylabel('Loss')\n",
        "    plt.title('Loss Over Time')\n",
        "    plt.legend()\n",
        "\n",
        "    plot2 = plt.figure(2)\n",
        "    plt.plot(list(np.arange(1,args.epochs+1)), train_acc, label=\"Training Accuracy\")\n",
        "    plt.plot(list(np.arange(1,args.epochs+1)), validation_acc, label=\"Validation Accuracy\")\n",
        "    plt.xticks(np.arange(1,args.epochs+1,(args.epochs / 5)))\n",
        "    plt.xlabel('Epoch #') \n",
        "    plt.ylabel('Accuracy')\n",
        "    plt.title('Accuracy Over Time')\n",
        "    plt.legend()\n",
        "\n",
        "    plt.show()\n",
        "    save(model.state_dict(), args.filename)"
      ],
      "execution_count": 7,
      "outputs": []
    },
    {
      "cell_type": "markdown",
      "metadata": {
        "id": "4RMVTss_48-A"
      },
      "source": [
        "Create architecture for LSTM model"
      ]
    },
    {
      "cell_type": "code",
      "metadata": {
        "id": "-NAuBNBV4719"
      },
      "source": [
        "class LSTM(nn.Module):\n",
        "  def __init__(self, args):\n",
        "    super(LSTM, self).__init__()\n",
        "\n",
        "    self.hidden_size = args.hidden_size\n",
        "    self.vocab_size = args.vocab_size\n",
        "    self.embed_size = args.embedding_length\n",
        "    self.n_layers = args.layers\n",
        "    self.device = args.device\n",
        "\n",
        "    self.word_embeddings = nn.Embedding(args.vocab_size, self.embed_size)\n",
        "    self.attention = nn.MultiheadAttention(self.embed_size, args.num_heads)\n",
        "    self.lstm = nn.LSTM(self.embed_size, args.hidden_size, num_layers=self.n_layers, bidirectional=True, dropout=0.6)\n",
        "    self.fc1 = nn.Linear(2*self.n_layers*self.hidden_size, 100)\n",
        "    self.fc2 = nn.Linear(100, args.vocab_size)\n",
        "    self.dropout = nn.Dropout(0.6)\n",
        "\n",
        "  def forward(self, input_sentences):\n",
        "    input = self.word_embeddings(input_sentences).permute(1, 0, 2)\n",
        "    att_outputs, _ = self.attention(input.contiguous(), input.contiguous(), input.contiguous())\n",
        "    att_outputs = F.relu(att_outputs)\n",
        "    hidden = (torch.randn(2*self.n_layers, input.shape[1], self.hidden_size).to(self.device),\n",
        "            torch.randn(2*self.n_layers, input.shape[1], self.hidden_size).to(self.device))\n",
        "    output, hidden = self.lstm(att_outputs, hidden)\n",
        "    h_n = hidden[0].permute(1, 0, 2)\n",
        "    outputs = h_n.contiguous().view(h_n.shape[0], -1)\n",
        "    outputs = F.relu(outputs)\n",
        "    linear_output1 = self.fc1(outputs)\n",
        "    linear_output1 = F.relu(linear_output1)\n",
        "    logits = self.fc2(linear_output1)\n",
        "    return logits"
      ],
      "execution_count": 8,
      "outputs": []
    },
    {
      "cell_type": "markdown",
      "metadata": {
        "id": "XCVXB8OA5EXm"
      },
      "source": [
        "Train the LSTM model"
      ]
    },
    {
      "cell_type": "code",
      "metadata": {
        "colab": {
          "base_uri": "https://localhost:8080/",
          "height": 747
        },
        "id": "n6_77L9I5D08",
        "outputId": "e5148b9d-db1f-408c-876a-12396bf67e0d"
      },
      "source": [
        "class Args(object):\n",
        "    pass\n",
        "\n",
        "args = Args();\n",
        "args.learning_rate = 0.0001\n",
        "args.epochs = 405\n",
        "args.device = \"cuda:0\"\n",
        "args.hidden_size = 128\n",
        "args.embedding_length = 128\n",
        "args.layers = 2\n",
        "args.num_heads = 1\n",
        "args.vocab_size = len(dictionary)\n",
        "args.filename = \"LSTMModel-1.5-0.01.pth\"\n",
        "\n",
        "lstm_model = LSTM(args)\n",
        "train(args, lstm_model)"
      ],
      "execution_count": 9,
      "outputs": [
        {
          "output_type": "stream",
          "text": [
            "Epoch: 1,  Training Loss: 5.5552, Training Accuracy:  6.26%\n",
            "Validation Loss: 5.5413, Validation Accuracy:  25.10%\n",
            "Epoch: 2,  Training Loss: 5.5132, Training Accuracy:  26.78%\n",
            "Validation Loss: 5.4894, Validation Accuracy:  27.53%\n",
            "Epoch: 3,  Training Loss: 5.4338, Training Accuracy:  27.65%\n",
            "Validation Loss: 5.3901, Validation Accuracy:  27.53%\n",
            "Epoch: 4,  Training Loss: 5.2876, Training Accuracy:  27.65%\n",
            "Validation Loss: 5.1818, Validation Accuracy:  27.53%\n",
            "Epoch: 5,  Training Loss: 5.0067, Training Accuracy:  27.65%\n",
            "Validation Loss: 4.8369, Validation Accuracy:  27.53%\n"
          ],
          "name": "stdout"
        },
        {
          "output_type": "display_data",
          "data": {
            "image/png": "[encoded data removed]",
            "text/plain": [
              "<Figure size 432x288 with 1 Axes>"
            ]
          },
          "metadata": {
            "tags": [],
            "needs_background": "light"
          }
        },
        {
          "output_type": "display_data",
          "data": {
            "image/png": "[encoded data removed]",
            "text/plain": [
              "<Figure size 432x288 with 1 Axes>"
            ]
          },
          "metadata": {
            "tags": [],
            "needs_background": "light"
          }
        }
      ]
    },
    {
      "cell_type": "markdown",
      "metadata": {
        "id": "xJCPZyai5hjK"
      },
      "source": [
        "Helper function for loading pre-trained models"
      ]
    },
    {
      "cell_type": "code",
      "metadata": {
        "id": "p94AiVJ55LFt"
      },
      "source": [
        "from torch import load\n",
        "def load_model(name, args, device_name='cpu'):\n",
        "    \"\"\"\n",
        "    @Brief: load a model saved in the \".pth\" or \".pt\" formats\n",
        "    @Inputs:\n",
        "        name (str): name of the model (without the extension)\n",
        "        args (Args Object): set of arguments describing information such as the hyperparameters of the model\n",
        "        device_name (str): name of the device i.e: 'cpu', 'cuda:0', that you would want to run the model on.\n",
        "    @Outputs:\n",
        "        r (nn.Module): a Pytorch model of either \"BasicCNNClassifier\" or \"MyBestCNNClassifier\" (depend on \"name\" input) \n",
        "            with pretrained wieghts.\n",
        "    \"\"\"\n",
        "    # In case students set input name = \"*.pth\" \n",
        "    r = LSTM(args)\n",
        "    r.load_state_dict(load(name + \".pth\", map_location=device_name))\n",
        "    return r"
      ],
      "execution_count": 10,
      "outputs": []
    },
    {
      "cell_type": "markdown",
      "metadata": {
        "id": "GoCEs7XhvWa6"
      },
      "source": [
        "Re-form the train set without shuffling the data this time. "
      ]
    },
    {
      "cell_type": "code",
      "metadata": {
        "id": "tr84o1VIVgs_"
      },
      "source": [
        "dictionary = {}\n",
        "reverse_dict = {}\n",
        "dictionary_copy = {}\n",
        "midi_file_names = get_midi_files(percent=0.01)\n",
        "piano_rolls = generate_dict_time_notes(midi_file_names, fs = 1.5)\n",
        "timestep_notes_list = process_notes_in_song(piano_rolls, dictionary, reverse_dict, dictionary_copy)\n",
        "data = create_train_set(timestep_notes_list, reverse_dict, window_length = 50)\n",
        "\n",
        "split = int(0.7 * len(data))\n",
        "train_data = data[:split]\n",
        "val_data = data[split:]\n",
        "\n",
        "seed = train_data[0][0]"
      ],
      "execution_count": 16,
      "outputs": []
    },
    {
      "cell_type": "markdown",
      "metadata": {
        "id": "VZRf2b7D975B"
      },
      "source": [
        "Generate new music "
      ]
    },
    {
      "cell_type": "code",
      "metadata": {
        "colab": {
          "base_uri": "https://localhost:8080/"
        },
        "id": "RPcfNJSv5nCy",
        "outputId": "f0fff6d4-2702-4adf-a5f6-5ddf23c2f670"
      },
      "source": [
        "args = Args();\n",
        "args.learning_rate = 0.0001\n",
        "args.epochs = 405\n",
        "args.device = \"cuda:0\"\n",
        "args.hidden_size = 128\n",
        "args.embedding_length = 128\n",
        "args.layers = 2\n",
        "args.num_heads = 1\n",
        "args.vocab_size = len(dictionary)\n",
        "args.filename = \"LSTMModel-1.5-0.01.pth\"\n",
        "\n",
        "# model = load_model(\"/content/drive/My Drive/maestro-v3.0.0/2018/LSTMModel-1.5-0.01\", args, args.device)\n",
        "model = load_model(\"/content/LSTMModel-1.5-0.01\", args, args.device)\n",
        "\n",
        "# Generate the new music\n",
        "X_new = seed\n",
        "preds = []\n",
        "new_dict = dictionary\n",
        "new_notes = 0\n",
        "for j in range(100):\n",
        "  model.eval()\n",
        "  input_ = X_new[j:j+50].reshape(1, -1).to(args.device)\n",
        "  output = model(input_)\n",
        "  category = torch.argmax(output).item()\n",
        "\n",
        "  # check if output is part of the first song \n",
        "  # (which is where the seed is taken from)\n",
        "  if (category not in dictionary_copy[0]):\n",
        "    new_notes += 1\n",
        "  prediction = reverse_dict[category]\n",
        "  X_new = X_new.tolist()\n",
        "  X_new.append(category)\n",
        "  preds.append(prediction)\n",
        "  X_new = torch.tensor(X_new)\n",
        "\n",
        "print(X_new[50:])\n",
        "print(new_notes)"
      ],
      "execution_count": 18,
      "outputs": [
        {
          "output_type": "stream",
          "text": [
            "tensor([0, 0, 0, 0, 0, 0, 0, 0, 0, 0])\n",
            "0\n"
          ],
          "name": "stdout"
        }
      ]
    },
    {
      "cell_type": "markdown",
      "metadata": {
        "id": "aFi35WXp7FAk"
      },
      "source": [
        "Find the number of non-empty timesteps in the generated music"
      ]
    },
    {
      "cell_type": "code",
      "metadata": {
        "colab": {
          "base_uri": "https://localhost:8080/"
        },
        "id": "ELzBYLP57DJ5",
        "outputId": "724e69b9-7eba-401a-f183-dedf12e5d21b"
      },
      "source": [
        "num = len(np.nonzero(X_new[50:]))\n",
        "denom = len(X_new[50:])\n",
        "print(num / denom)"
      ],
      "execution_count": 26,
      "outputs": [
        {
          "output_type": "stream",
          "text": [
            "0.0\n"
          ],
          "name": "stdout"
        }
      ]
    },
    {
      "cell_type": "markdown",
      "metadata": {
        "id": "VhJhqpEPFqTm"
      },
      "source": [
        "Add one pitch at the end as the signal to stop if the notes generated are all empty."
      ]
    },
    {
      "cell_type": "code",
      "metadata": {
        "id": "qZl_yIjVwbzs"
      },
      "source": [
        "X_n = np.hstack((X_new[50:],[1]))"
      ],
      "execution_count": 32,
      "outputs": []
    },
    {
      "cell_type": "markdown",
      "metadata": {
        "id": "S6FymGMJGH5x"
      },
      "source": [
        "The following two blocks transform the sequence of piano rolls to a midi file."
      ]
    },
    {
      "cell_type": "code",
      "metadata": {
        "id": "Skk4lXRCVOuz"
      },
      "source": [
        "def piano_roll_to_pretty_midi(piano_roll, fs=1.5, program=0):\n",
        "    '''Convert a Piano Roll array into a PrettyMidi object\n",
        "     with a single instrument.\n",
        "    Parameters\n",
        "    ----------\n",
        "    piano_roll : np.ndarray, shape=(128,frames), dtype=int\n",
        "        Piano roll of one instrument\n",
        "    fs : int\n",
        "        Sampling frequency of the columns, i.e. each column is spaced apart\n",
        "        by ``1./fs`` seconds.\n",
        "    program : int\n",
        "        The program number of the instrument.\n",
        "    Returns\n",
        "    -------\n",
        "    midi_object : pretty_midi.PrettyMIDI\n",
        "        A pretty_midi.PrettyMIDI class instance describing\n",
        "        the piano roll.\n",
        "    '''\n",
        "\n",
        "    notes, frames = piano_roll.shape\n",
        "    pm = pretty_midi.PrettyMIDI()\n",
        "    instrument = pretty_midi.Instrument(program=program)\n",
        "\n",
        "    # pad 1 column of zeros so we can acknowledge inital and ending events\n",
        "    piano_roll = np.pad(piano_roll, [(0, 0), (1, 1)], 'constant')\n",
        "\n",
        "    print(np.diff(piano_roll).T)\n",
        "\n",
        "    # use changes in velocities to find note on / note off events\n",
        "    velocity_changes = np.nonzero(np.diff(piano_roll).T)\n",
        "\n",
        "    # keep track on velocities and note on times\n",
        "    prev_velocities = np.zeros(notes, dtype=int)\n",
        "    note_on_time = np.zeros(notes)\n",
        "\n",
        "    for time, note in zip(*velocity_changes):\n",
        "        # use time + 1 because of padding above\n",
        "        velocity = piano_roll[note, time + 1]\n",
        "        time = time / fs\n",
        "        if velocity > 0:\n",
        "            if prev_velocities[note] == 0:\n",
        "                note_on_time[note] = time\n",
        "                prev_velocities[note] = velocity # 1/0\n",
        "        else:\n",
        "            pm_note = pretty_midi.Note(\n",
        "                velocity=prev_velocities[note],\n",
        "                pitch=note,\n",
        "                start=note_on_time[note],\n",
        "                end=time)\n",
        "            instrument.notes.append(pm_note)\n",
        "            prev_velocities[note] = 0\n",
        "    pm.instruments.append(instrument)\n",
        "    return pm"
      ],
      "execution_count": 30,
      "outputs": []
    },
    {
      "cell_type": "code",
      "metadata": {
        "id": "03lbCYipU1pu",
        "colab": {
          "base_uri": "https://localhost:8080/"
        },
        "outputId": "3100373d-a2b6-4e8f-8e0b-c4ba95691506"
      },
      "source": [
        "def write_midi_file_from_generated(generate, midi_file_name = \"result.mid\", start_index=0, fs=1.5, max_generated=100):\n",
        "  array_piano_roll = np.zeros((max_generated+1, 128), dtype=np.int16)\n",
        "  for index, combo in enumerate(generate[start_index:]):\n",
        "    array_piano_roll[index] = combo\n",
        "\n",
        "  generate_to_midi = piano_roll_to_pretty_midi(array_piano_roll.T, fs=fs)\n",
        "  for note in generate_to_midi.instruments[0].notes:\n",
        "    note.velocity = 100\n",
        "  generate_to_midi.write(midi_file_name)\n",
        "\n",
        "write_midi_file_from_generated(np.array(preds, dtype=int), midi_file_name = \"1_song_fs_1.5.mid\", start_index=0, fs=1.5, max_generated = 101)"
      ],
      "execution_count": 31,
      "outputs": [
        {
          "output_type": "stream",
          "text": [
            "[[0 0 0 ... 0 0 0]\n",
            " [0 0 0 ... 0 0 0]\n",
            " [0 0 0 ... 0 0 0]\n",
            " ...\n",
            " [0 0 0 ... 0 0 0]\n",
            " [0 0 0 ... 0 0 0]\n",
            " [0 0 0 ... 0 0 0]]\n"
          ],
          "name": "stdout"
        }
      ]
    },
    {
      "cell_type": "markdown",
      "metadata": {
        "id": "MJS9fx6V-i5d"
      },
      "source": [
        "Note that the .mid file with the generated song might be in the \"/content/drive/My Drive/maestro-v3.0.0/2018/\" directory"
      ]
    },
    {
      "cell_type": "code",
      "metadata": {
        "id": "81PzU8k--yxZ"
      },
      "source": [
        ""
      ],
      "execution_count": null,
      "outputs": []
    }
  ]
}